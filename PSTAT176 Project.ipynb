{
 "cells": [
  {
   "cell_type": "code",
   "execution_count": 1,
   "metadata": {},
   "outputs": [
    {
     "name": "stdout",
     "output_type": "stream",
     "text": [
      "Requirement already satisfied: pandas_datareader in /Users/nialllawler/anaconda3/lib/python3.6/site-packages (0.8.1)\n",
      "Requirement already satisfied: lxml in /Users/nialllawler/anaconda3/lib/python3.6/site-packages (from pandas_datareader) (4.1.0)\n",
      "Requirement already satisfied: requests>=2.3.0 in /Users/nialllawler/anaconda3/lib/python3.6/site-packages (from pandas_datareader) (2.23.0)\n",
      "Requirement already satisfied: pandas>=0.21 in /Users/nialllawler/anaconda3/lib/python3.6/site-packages (from pandas_datareader) (1.0.3)\n",
      "Requirement already satisfied: idna<3,>=2.5 in /Users/nialllawler/anaconda3/lib/python3.6/site-packages (from requests>=2.3.0->pandas_datareader) (2.6)\n",
      "Requirement already satisfied: certifi>=2017.4.17 in /Users/nialllawler/anaconda3/lib/python3.6/site-packages (from requests>=2.3.0->pandas_datareader) (2017.7.27.1)\n",
      "Requirement already satisfied: urllib3!=1.25.0,!=1.25.1,<1.26,>=1.21.1 in /Users/nialllawler/anaconda3/lib/python3.6/site-packages (from requests>=2.3.0->pandas_datareader) (1.22)\n",
      "Requirement already satisfied: chardet<4,>=3.0.2 in /Users/nialllawler/anaconda3/lib/python3.6/site-packages (from requests>=2.3.0->pandas_datareader) (3.0.4)\n",
      "Requirement already satisfied: pytz>=2017.2 in /Users/nialllawler/anaconda3/lib/python3.6/site-packages (from pandas>=0.21->pandas_datareader) (2017.2)\n",
      "Requirement already satisfied: numpy>=1.13.3 in /Users/nialllawler/anaconda3/lib/python3.6/site-packages (from pandas>=0.21->pandas_datareader) (1.18.4)\n",
      "Requirement already satisfied: python-dateutil>=2.6.1 in /Users/nialllawler/anaconda3/lib/python3.6/site-packages (from pandas>=0.21->pandas_datareader) (2.6.1)\n",
      "Requirement already satisfied: six>=1.5 in /Users/nialllawler/anaconda3/lib/python3.6/site-packages (from python-dateutil>=2.6.1->pandas>=0.21->pandas_datareader) (1.11.0)\n",
      "Requirement already satisfied: yfinance in /Users/nialllawler/anaconda3/lib/python3.6/site-packages (0.1.54)\n",
      "Requirement already satisfied: numpy>=1.15 in /Users/nialllawler/anaconda3/lib/python3.6/site-packages (from yfinance) (1.18.4)\n",
      "Requirement already satisfied: requests>=2.20 in /Users/nialllawler/anaconda3/lib/python3.6/site-packages (from yfinance) (2.23.0)\n",
      "Requirement already satisfied: multitasking>=0.0.7 in /Users/nialllawler/anaconda3/lib/python3.6/site-packages (from yfinance) (0.0.9)\n",
      "Requirement already satisfied: pandas>=0.24 in /Users/nialllawler/anaconda3/lib/python3.6/site-packages (from yfinance) (1.0.3)\n",
      "Requirement already satisfied: chardet<4,>=3.0.2 in /Users/nialllawler/anaconda3/lib/python3.6/site-packages (from requests>=2.20->yfinance) (3.0.4)\n",
      "Requirement already satisfied: urllib3!=1.25.0,!=1.25.1,<1.26,>=1.21.1 in /Users/nialllawler/anaconda3/lib/python3.6/site-packages (from requests>=2.20->yfinance) (1.22)\n",
      "Requirement already satisfied: idna<3,>=2.5 in /Users/nialllawler/anaconda3/lib/python3.6/site-packages (from requests>=2.20->yfinance) (2.6)\n",
      "Requirement already satisfied: certifi>=2017.4.17 in /Users/nialllawler/anaconda3/lib/python3.6/site-packages (from requests>=2.20->yfinance) (2017.7.27.1)\n",
      "Requirement already satisfied: pytz>=2017.2 in /Users/nialllawler/anaconda3/lib/python3.6/site-packages (from pandas>=0.24->yfinance) (2017.2)\n",
      "Requirement already satisfied: python-dateutil>=2.6.1 in /Users/nialllawler/anaconda3/lib/python3.6/site-packages (from pandas>=0.24->yfinance) (2.6.1)\n",
      "Requirement already satisfied: six>=1.5 in /Users/nialllawler/anaconda3/lib/python3.6/site-packages (from python-dateutil>=2.6.1->pandas>=0.24->yfinance) (1.11.0)\n"
     ]
    },
    {
     "name": "stderr",
     "output_type": "stream",
     "text": [
      "/Users/nialllawler/anaconda3/lib/python3.6/site-packages/pandas_datareader/compat/__init__.py:7: FutureWarning: pandas.util.testing is deprecated. Use the functions in the public API at pandas.testing instead.\n",
      "  from pandas.util.testing import assert_frame_equal\n"
     ]
    }
   ],
   "source": [
    "# Making a function StockVol to calibrate stock volitility under geometric Brownian motion model\n",
    "!pip install pandas_datareader\n",
    "!pip install yfinance\n",
    "import numpy as np\n",
    "import matplotlib as m\n",
    "import pandas as pd\n",
    "import pandas_datareader as pdr\n",
    "from pandas_datareader import data\n",
    "import yfinance as yf\n",
    "import datetime as dt\n",
    "from datetime import date\n",
    "yf.pdr_override()"
   ]
  },
  {
   "cell_type": "code",
   "execution_count": 12,
   "metadata": {
    "collapsed": true
   },
   "outputs": [],
   "source": [
    "#USE    : To get historical data for a particular stock\n",
    "#INPUT  : code of the company \"goog\"\n",
    "#OUTPUT : array of close price of data\n",
    "def GetData(companyName, years=1):\n",
    "    # Getting today's date\n",
    "    today = date.today()\n",
    "    # Setting start date to historical years\n",
    "    startDate = today.replace(today.year-years)\n",
    "    # Date : Open High Low Close \"Adj Close\" Volume\n",
    "    data = pdr.get_data_yahoo(companyName, startDate, today)\n",
    "    # Cleaning to get the close prices only\n",
    "    closePrice = [data[\"Close\"][i] for i in range(len(data))]\n",
    "    # Return close price of the data\n",
    "    return closePrice"
   ]
  },
  {
   "cell_type": "code",
   "execution_count": 13,
   "metadata": {
    "collapsed": true
   },
   "outputs": [],
   "source": [
    "#USE        : to find the volitility of the stock data\n",
    "#INPUT      : array of 1 year historical prices\n",
    "#ASSUMPTION : Stock doesn't pay dividends\n",
    "#OUTPUT     : historical volitility of the stock (standard deviation)\n",
    "def StockVol(histoPrice):\n",
    "    #Finding the ratio of current/previous values\n",
    "    Sn = [np.log(histoPrice[i+1]/histoPrice[i]) for i in range(len(histoPrice)-1)]\n",
    "    return np.sqrt(np.var(Sn, ddof=1))"
   ]
  },
  {
   "cell_type": "code",
   "execution_count": 14,
   "metadata": {
    "collapsed": true
   },
   "outputs": [],
   "source": [
    "#USE        : to generate n stock path\n",
    "#INPUT      : n-> number of stock path, sigma-> volitility, \n",
    "#           : T-> TerminalTime (yearly unit), nT-> numberOfTimePeriods\n",
    "#           : r-> interest rate, delta-> continuous dividend yield \n",
    "#           : S0-> initial price of the stock\n",
    "#ASSUMPTION : Stock is not paying any dividends\n",
    "#OUTPUT     : Stock Path as a matrix\n",
    "def StockPath(n, sigma = 0, S0=0, T=1, nT=10, r=.02, delta=0):\n",
    "    path = []\n",
    "    for period in range(nT):\n",
    "        # Step size for every path simulation\n",
    "        step =  T/nT\n",
    "        #\n",
    "        periodPrice = [S0]\n",
    "        # Computation of n simulated stock prices \n",
    "        # np.random.normal(0,1,n) outputs array of n normal values\n",
    "        Y = np.exp(((r-delta-(sigma**2)/2)*step)+(sigma*np.random.normal(0,1,nT)*np.sqrt(step)))\n",
    "        # now we have array of simulated factor for n stock path \n",
    "        # we want to multiply this to previous to find simulated price\n",
    "        counter = 0\n",
    "        for y in Y:\n",
    "            periodPrice.append(periodPrice[counter]*y)\n",
    "            counter += 1\n",
    "        path.append(periodPrice)\n",
    "    return(path)      "
   ]
  },
  {
   "cell_type": "code",
   "execution_count": 23,
   "metadata": {},
   "outputs": [],
   "source": [
    "#USE        : To generate the European put option price through Monte Carlo method\n",
    "#INPUT      : n-> number of stock paths, sigma-> volitility, \n",
    "#           : T-> TerminalTime (yearly unit), nT-> numberOfTimePeriods\n",
    "#           : r-> interest rate, delta-> continuous dividend yield \n",
    "#           : S0-> initial price of the stock\n",
    "#ASSUMPTION : Stock is not paying any dividends\n",
    "#OUTPUTS    : Discounted Payoff Vector, Price & Variance\n",
    "def EurOptPrice(StockPath, n, T=1, r=.02, K = 0):\n",
    "    # Last Column of StockPath is Terminal Value\n",
    "    Dis_Payoff_Vec = []\n",
    "    for j in range(0,n):\n",
    "        St_j = StockPath[j][n]\n",
    "        # Create Column of Disounted Payoffs\n",
    "        Dis_Payoff_j = np.exp(-r*T)*max(0,K - St_j)\n",
    "        Dis_Payoff_Vec = np.append(Dis_Payoff_Vec,Dis_Payoff_j)\n",
    "        Price = np.mean(Dis_Payoff_Vec)\n",
    "        Price_Var = np.var(Dis_Payoff_Vec)\n",
    "    return (Dis_Payoff_Vec, Price, Price_Var)"
   ]
  },
  {
   "cell_type": "code",
   "execution_count": 24,
   "metadata": {},
   "outputs": [],
   "source": [
    "HistoPrice = GetData(\"goog\", years=1)"
   ]
  },
  {
   "cell_type": "code",
   "execution_count": 25,
   "metadata": {},
   "outputs": [],
   "source": [
    "sigma = StockVol(HistoPrice)"
   ]
  },
  {
   "cell_type": "code",
   "execution_count": 31,
   "metadata": {},
   "outputs": [],
   "source": [
    "StockPaths = StockPath(n = 20, sigma = sigma, S0 = HistoPrice[0], T = 1, nT = 52, r = 0.02)"
   ]
  },
  {
   "cell_type": "code",
   "execution_count": 32,
   "metadata": {},
   "outputs": [
    {
     "data": {
      "text/plain": [
       "(array([53.02793582, 89.68933031, 64.00136743, 66.3746875 , 69.5022493 ,\n",
       "        66.21703911, 71.97480709, 89.66799871, 64.92191505, 47.09502649,\n",
       "        78.90490768, 92.79974796, 46.33845459, 58.86929218, 74.17698382,\n",
       "        87.10473411, 83.1964014 , 62.68252203, 79.73631186, 70.41086784]),\n",
       " 70.83462901307536,\n",
       " 179.10949391682996)"
      ]
     },
     "execution_count": 32,
     "metadata": {},
     "output_type": "execute_result"
    }
   ],
   "source": [
    "EurOptPrice(StockPaths, n = 20, T = 1, r = 0.02, K = 1200)"
   ]
  },
  {
   "cell_type": "code",
   "execution_count": null,
   "metadata": {
    "collapsed": true
   },
   "outputs": [],
   "source": []
  }
 ],
 "metadata": {
  "kernelspec": {
   "display_name": "Python 3",
   "language": "python",
   "name": "python3"
  },
  "language_info": {
   "codemirror_mode": {
    "name": "ipython",
    "version": 3
   },
   "file_extension": ".py",
   "mimetype": "text/x-python",
   "name": "python",
   "nbconvert_exporter": "python",
   "pygments_lexer": "ipython3",
   "version": "3.6.3"
  }
 },
 "nbformat": 4,
 "nbformat_minor": 2
}
