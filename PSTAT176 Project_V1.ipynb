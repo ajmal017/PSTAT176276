{
 "cells": [
  {
   "cell_type": "code",
   "execution_count": 1,
   "metadata": {},
   "outputs": [
    {
     "name": "stderr",
     "output_type": "stream",
     "text": [
      "/Library/Frameworks/Python.framework/Versions/3.6/lib/python3.6/site-packages/pandas_datareader/compat/__init__.py:7: FutureWarning: pandas.util.testing is deprecated. Use the functions in the public API at pandas.testing instead.\n",
      "  from pandas.util.testing import assert_frame_equal\n"
     ]
    }
   ],
   "source": [
    "# Making a function StockVol to calibrate stock volitility under geometric Brownian motion model\n",
    "# !pip3 install pandas_datareader\n",
    "# !pip3 install yfinance\n",
    "# !pip3 install cvxpy\n",
    "import numpy as np\n",
    "import matplotlib as m\n",
    "import pandas as pd\n",
    "import pandas_datareader as pdr\n",
    "from pandas_datareader import data\n",
    "import yfinance as yf\n",
    "import datetime as dt\n",
    "from datetime import date\n",
    "yf.pdr_override()"
   ]
  },
  {
   "cell_type": "code",
   "execution_count": 2,
   "metadata": {},
   "outputs": [],
   "source": [
    "#USE    : To get historical data for a particular stock\n",
    "#INPUT  : ticker of the company\n",
    "#OUTPUT : array of close price of data\n",
    "def GetData(companyName, years=1):\n",
    "    # Getting today's date\n",
    "    today = date.today()\n",
    "    # Setting start date to historical years\n",
    "    startDate = today.replace(today.year-years)\n",
    "    # Date : Open High Low Close \"Adj Close\" Volume\n",
    "    data = pdr.get_data_yahoo(companyName, startDate, today)\n",
    "    # Cleaning to get the close prices only\n",
    "    closePrice = [data[\"Close\"][i] for i in range(len(data))]\n",
    "    # Return close price of the data\n",
    "    return closePrice\n",
    "\n",
    "#USE    : To get continuous annual dividend yield for a stock\n",
    "#INPUT  : ticker of the company (as a string), number of dividend payments in a year\n",
    "#OUTPUT : continuous annual dividend yield\n",
    "def ContDiv(companyName):\n",
    "    # Get stock info\n",
    "    stock = yf.Ticker(companyName)\n",
    "    # Get current stock price\n",
    "    S0 = pdr.get_data_yahoo(companyName).iloc[-1,:]['Close']\n",
    "    if len(stock.dividends) > 0:\n",
    "        # get frequency of dividend payments in a year\n",
    "        div_df = stock.actions[['Dividends']]\n",
    "        div_df = div_df[div_df['Dividends'] > 0]\n",
    "        freq = len(div_df['2019'])\n",
    "        # compute annual dividend yield\n",
    "        annualDY = (stock.dividends[-1]*freq)/S0\n",
    "    else:\n",
    "        annualDY = 0\n",
    "    # converts annual dividend yield to effective continuous yield\n",
    "    delta = np.log(annualDY + 1)  \n",
    "    return delta"
   ]
  },
  {
   "cell_type": "code",
   "execution_count": 3,
   "metadata": {},
   "outputs": [],
   "source": [
    "#USE        : to find the volitility of the stock data\n",
    "#INPUT      : array of 1 year historical prices\n",
    "#ASSUMPTION : Stock doesn't pay dividends\n",
    "#OUTPUT     : historical volitility of the stock (standard deviation)\n",
    "def StockVol(histoPrice):\n",
    "    #Finding the ratio of current/previous values\n",
    "    Sn = [np.log(histoPrice[i+1]/histoPrice[i]) for i in range(len(histoPrice)-1)]\n",
    "    return np.sqrt(np.var(Sn, ddof=1))"
   ]
  },
  {
   "cell_type": "code",
   "execution_count": 13,
   "metadata": {},
   "outputs": [],
   "source": [
    "#USE        : to generate n stock path\n",
    "#INPUT      : nSteps-> number of time steps, sigma-> volatility, \n",
    "#           : T-> TerminalTime (yearly unit), nSimulations-> number of Simulations\n",
    "#           : r-> interest rate, delta-> continuous dividend yield \n",
    "#           : S0-> initial price of the stock\n",
    "#ASSUMPTION : Stock is not paying any dividends\n",
    "#OUTPUT     : Stock Path as a matrix\n",
    "def StockPath(nSteps, sigma=0, S0=0, T=1, nSimulations=10, r=0.02, delta=0):\n",
    "    path = []\n",
    "    for period in range(nSimulations):\n",
    "        # Step size for every path simulation\n",
    "        step =  T/nSteps\n",
    "        #\n",
    "        periodPrice = [S0]\n",
    "        # Computation of n simulated stock prices \n",
    "        # np.random.normal(0,1,n) outputs array of nSteps normal values\n",
    "        Y = np.exp(((r-delta-(sigma**2)/2)*step)+(sigma*np.random.normal(0,1,nSteps)*np.sqrt(step)))\n",
    "        # now we have array of simulated factor for nSteps stock path \n",
    "        # we want to multiply this to previous to find simulated price\n",
    "        counter = 0\n",
    "        for y in Y:\n",
    "            periodPrice.append(periodPrice[counter]*y)\n",
    "            counter += 1\n",
    "        path.append(periodPrice)\n",
    "    return(path)      "
   ]
  },
  {
   "cell_type": "code",
   "execution_count": 14,
   "metadata": {},
   "outputs": [],
   "source": [
    "#USE        : To generate the European put option price through Monte Carlo method\n",
    "#INPUT      : StockPath, nSteps-> number of time steps, sigma-> volatility, \n",
    "#           : T-> TerminalTime (yearly unit), nSimulations-> number of Simulations\n",
    "#           : r-> interest rate, delta-> continuous dividend yield,\n",
    "#           : S0-> initial price of the stock, K-> Strike Price\n",
    "#ASSUMPTION : Stock is not paying any dividends\n",
    "#OUTPUTS    : Discounted Payoff Vector, Price & Variance\n",
    "def EurOptPrice(StockPath, nStockPath, T=1, r=.02, K = 0):\n",
    "    # Last Column of StockPath is Terminal Value\n",
    "    Dis_Payoff_Vec = []\n",
    "    for j in range(0,nStockPath):\n",
    "        St_j = StockPath[j][nStockPath]\n",
    "        # Create Column of Disounted Payoffs\n",
    "        Dis_Payoff_j = np.exp(-r*T)*max(0,K - St_j)\n",
    "        Dis_Payoff_Vec = np.append(Dis_Payoff_Vec,Dis_Payoff_j)\n",
    "        Price = np.mean(Dis_Payoff_Vec)\n",
    "        Price_Var = np.var(Dis_Payoff_Vec)\n",
    "    return (Dis_Payoff_Vec, Price, Price_Var)"
   ]
  },
  {
   "cell_type": "code",
   "execution_count": 15,
   "metadata": {},
   "outputs": [],
   "source": [
    "HistoPrice = GetData(\"GOOG\", years=1)\n",
    "sigma = StockVol(HistoPrice)\n",
    "delta = ContDiv(\"GOOG\")\n",
    "StockPaths = StockPath(nSteps = 20, sigma = sigma, S0 = HistoPrice[0], T = 1, nSimulations = 52, r = 0.02, delta=delta)\n",
    "Eu = EurOptPrice(StockPaths, nStockPath = 20, T = 1, r = 0.02, K = 1200)"
   ]
  },
  {
   "cell_type": "code",
   "execution_count": 16,
   "metadata": {},
   "outputs": [],
   "source": [
    "import cvxpy as cp\n",
    "#USE        : To generate the Aemrican put option price through Monte Carlo method\n",
    "#INPUT      : StockPaths, nSteps-> number of time steps, sigma-> volatility, \n",
    "#           : T-> TerminalTime (yearly unit), nSimulations-> number of Simulations\n",
    "#           : r-> interest rate, delta-> continuous dividend yield\n",
    "#           : S0-> initial price of the stock, K-> Strike Price\n",
    "#ASSUMPTION : Stock is not paying any dividends\n",
    "#OUTPUTS    : Discounted Payoff Vector, Price & Variance\n",
    "def AmericanOptionPrice(StockPaths, nSteps, nSimulations, sigma, r, K, T, mcSamples=1000, delta = 0):\n",
    "    step = T/nSteps\n",
    "    # Shape is (nSimulations, nSteps)\n",
    "    # Take a closer look, all stock path has been reversed to work in the backward direction\n",
    "    # i.e. it starts from time in reverse direction\n",
    "    paths = np.array(StockPaths).T[::-1] \n",
    "    #print(f\"shape of paths is {np.shape(paths)}\")\n",
    "    \n",
    "    # This contains payoffs of all the path or 0th time step\n",
    "    exercisedPayoffs = [(K-paths[0]).clip(min=0)]\n",
    "    exercisedExpDisPayoffs = [(K-paths[0]).clip(min=0)]\n",
    "    \n",
    "    for i in range(1,nSteps):\n",
    "        # Has number of values equal to nSsimulations i.e. every path value\n",
    "        # So basically variable 'paths' contain price at each time step for all simulation\n",
    "        # stockPrices has price at time step i for every path of simulation\n",
    "        stockPrices = paths[i]\n",
    "        #print(f\"stockPrices shape is {np.shape(stockPrices)}\")\n",
    "        \n",
    "        # Make positive payoff using clip, this is payofsf at time step i for all path \n",
    "        payOffs = (K - stockPrices).clip(min=0)\n",
    "        #print(payOffs, np.shape(payOffs))\n",
    "        \n",
    "        # We need to find Discounted Conditional Expected Price for next step of each step value\n",
    "        # So we need to Simulate 1 step Monte Carlo to generate next time stock price\n",
    "        # Find the payoff of this next time stock price and calculate average \n",
    "        # We use blackSholes model for price simulation\n",
    "        \n",
    "        # For every path in the stockPrices simulate Monte Carlo and get next prices using Black-Sholes\n",
    "        # time step is ith\n",
    "        simulatedPrices = [ stockPrice*np.exp(sigma*np.random.normal(0,1,mcSamples)*np.sqrt(step) + (r-(sigma**2)/2)*step) for stockPrice in stockPrices]\n",
    "        simulatedPrices = np.array(simulatedPrices)\n",
    "        #print(f\"Shape of simulatedPrices is: {np.shape(simulatedPrices)}\")\n",
    "        # shape is nSimulations X mcSamples\n",
    "        # So for every path at timeStep i we have mcSamples montecarlo samples simulated\n",
    "        \n",
    "        #If this is the t-1 step then the expected payoff is to be simulated mean\n",
    "        if(i == 1):\n",
    "            # Find expected payoff by taking mean of all the path\n",
    "            expectedPayoffs = np.array([np.mean(expectedPayoff) for expectedPayoff in K-simulatedPrices.clip(min=0)])\n",
    "            #print(f\"Shape of expectedPayoffs is {np.shape(expectedPayoffs)}\")\n",
    "            discountedExpectedPayoffs = expectedPayoffs* np.exp(-r*step)\n",
    "            #print(f\"Shape of discountedExpectedPayoff is {np.shape(discountedExpectedPayoffs)}\")\n",
    "            \n",
    "        # For other time step it must be done by machine learning\n",
    "        else:\n",
    "            # discountedExpectedPayoffs needs to be calculated using the machine learning\n",
    "            # Take as input stockPrices (has stock price for each path at time step i)\n",
    "            # and take another input as discountedExpectedPayoffs (has expectedPayoffs \n",
    "            # for each path at time step i)\n",
    "            # run the machine learning model on this to get the weights\n",
    "            # use this weights to predict new expected payoff at timestep i-1\n",
    "            \n",
    "            X = np.array([np.array([1]*len(stockPrices)), stockPrices, stockPrices**2])\n",
    "            X = X.T\n",
    "            #print(np.shape(X))\n",
    "            #print(X)\n",
    "            # Formalizing the regression model\n",
    "            beta = cp.Variable(3)\n",
    "            loss = cp.sum_squares(discountedExpectedPayoffs-X@beta)\n",
    "            prob = cp.Problem(cp.Minimize(loss))\n",
    "            prob.solve()\n",
    "            # estimating discounted expected payoffs using estimated parameters\n",
    "            discountedExpectedPayoffs = X@beta.value\n",
    "        exercisedPayoffs.insert(0, payOffs)\n",
    "        exercisedExpDisPayoffs.insert(0, discountedExpectedPayoffs)\n",
    "    exercisedPayoffs = np.array(exercisedPayoffs).T\n",
    "    exercisedExpDisPayoffs = np.array(exercisedExpDisPayoffs).T\n",
    "    #Now we have nSimulations X nSteps shaped arrays\n",
    "    discountedPayoffsMax = []\n",
    "    for i in range(nSimulations):\n",
    "        for j in range(nSteps):\n",
    "            exerPayoff = exercisedPayoffs[i][j]\n",
    "            exerDisPayoff = exercisedExpDisPayoffs[i][j]\n",
    "            if exerPayoff > exerDisPayoff :\n",
    "                disPayoff = exerPayoff*np.exp(-r*step*j)\n",
    "                break\n",
    "            else:\n",
    "                disPayoff = exerDisPayoff.np.exp(-r*step*j)\n",
    "        discountedPayoffsMax.append(disPayoff) \n",
    "        \n",
    "    return(discountedPayoffsMax, np.mean(discountedPayoffsMax), np.var(discountedPayoffsMax, ddof=1))"
   ]
  },
  {
   "cell_type": "code",
   "execution_count": 17,
   "metadata": {},
   "outputs": [],
   "source": [
    "HistoPrice = GetData(\"goog\", years=1)\n",
    "sigma = StockVol(HistoPrice)\n",
    "nSteps = 20\n",
    "S0 = HistoPrice[0]\n",
    "StockPaths = StockPath(nSteps = 20, sigma = sigma, S0 = HistoPrice[0], T = 1, nSimulations = 52, r = 0.02)\n",
    "mcSamples = 1000\n",
    "nSimulations = 52\n",
    "r = 0.04\n",
    "K = 1200\n",
    "T = 1 "
   ]
  },
  {
   "cell_type": "code",
   "execution_count": 18,
   "metadata": {},
   "outputs": [],
   "source": [
    "a,b,c = AmericanOptionPrice(StockPaths, nSteps, nSimulations, sigma, r, K, T, mcSamples=1000)"
   ]
  },
  {
   "cell_type": "code",
   "execution_count": 19,
   "metadata": {},
   "outputs": [
    {
     "name": "stdout",
     "output_type": "stream",
     "text": [
      "52\n",
      "117.9071473228695\n",
      "29.367086234558833\n"
     ]
    }
   ],
   "source": [
    "print(len(a))\n",
    "print(b)\n",
    "print(c)"
   ]
  },
  {
   "cell_type": "code",
   "execution_count": null,
   "metadata": {},
   "outputs": [],
   "source": [
    "# control variate function\n",
    "# USE   : reduce the variance of the simulated data\n",
    "# INPUTS: x = control variate - we can use the corresponding Euro option price; \n",
    "#         mu = mean of x; y = american option price of each path\n",
    "# OUTPUT: estimated price of American option after using control variate\n",
    "def contvariate(x,mu,y):\n",
    "    c=-np.cov(x,y)/np.var(x)\n",
    "    return(np.mean(y+c*(x-mu)))"
   ]
  }
 ],
 "metadata": {
  "kernelspec": {
   "display_name": "Python 3",
   "language": "python",
   "name": "python3"
  },
  "language_info": {
   "codemirror_mode": {
    "name": "ipython",
    "version": 3
   },
   "file_extension": ".py",
   "mimetype": "text/x-python",
   "name": "python",
   "nbconvert_exporter": "python",
   "pygments_lexer": "ipython3",
   "version": "3.6.5"
  }
 },
 "nbformat": 4,
 "nbformat_minor": 2
}
