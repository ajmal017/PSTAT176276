{
 "cells": [
  {
   "cell_type": "code",
   "execution_count": 1,
   "metadata": {},
   "outputs": [
    {
     "name": "stdout",
     "output_type": "stream",
     "text": [
      "Requirement already satisfied: pandas_datareader in /home/mayuresh/anaconda3/lib/python3.7/site-packages (0.8.1)\n",
      "Requirement already satisfied: pandas>=0.21 in /home/mayuresh/anaconda3/lib/python3.7/site-packages (from pandas_datareader) (1.0.3)\n",
      "Requirement already satisfied: requests>=2.3.0 in /home/mayuresh/anaconda3/lib/python3.7/site-packages (from pandas_datareader) (2.22.0)\n",
      "Requirement already satisfied: lxml in /home/mayuresh/anaconda3/lib/python3.7/site-packages (from pandas_datareader) (4.3.2)\n",
      "Requirement already satisfied: numpy>=1.13.3 in /home/mayuresh/anaconda3/lib/python3.7/site-packages (from pandas>=0.21->pandas_datareader) (1.17.2)\n",
      "Requirement already satisfied: pytz>=2017.2 in /home/mayuresh/anaconda3/lib/python3.7/site-packages (from pandas>=0.21->pandas_datareader) (2018.9)\n",
      "Requirement already satisfied: python-dateutil>=2.6.1 in /home/mayuresh/anaconda3/lib/python3.7/site-packages (from pandas>=0.21->pandas_datareader) (2.8.0)\n",
      "Requirement already satisfied: chardet<3.1.0,>=3.0.2 in /home/mayuresh/anaconda3/lib/python3.7/site-packages (from requests>=2.3.0->pandas_datareader) (3.0.4)\n",
      "Requirement already satisfied: idna<2.9,>=2.5 in /home/mayuresh/anaconda3/lib/python3.7/site-packages (from requests>=2.3.0->pandas_datareader) (2.8)\n",
      "Requirement already satisfied: certifi>=2017.4.17 in /home/mayuresh/anaconda3/lib/python3.7/site-packages (from requests>=2.3.0->pandas_datareader) (2020.4.5.1)\n",
      "Requirement already satisfied: urllib3!=1.25.0,!=1.25.1,<1.26,>=1.21.1 in /home/mayuresh/anaconda3/lib/python3.7/site-packages (from requests>=2.3.0->pandas_datareader) (1.25.7)\n",
      "Requirement already satisfied: six>=1.5 in /home/mayuresh/anaconda3/lib/python3.7/site-packages (from python-dateutil>=2.6.1->pandas>=0.21->pandas_datareader) (1.12.0)\n",
      "Requirement already satisfied: yfinance in /home/mayuresh/anaconda3/lib/python3.7/site-packages (0.1.54)\n",
      "Requirement already satisfied: pandas>=0.24 in /home/mayuresh/anaconda3/lib/python3.7/site-packages (from yfinance) (1.0.3)\n",
      "Requirement already satisfied: multitasking>=0.0.7 in /home/mayuresh/anaconda3/lib/python3.7/site-packages (from yfinance) (0.0.9)\n",
      "Requirement already satisfied: numpy>=1.15 in /home/mayuresh/anaconda3/lib/python3.7/site-packages (from yfinance) (1.17.2)\n",
      "Requirement already satisfied: requests>=2.20 in /home/mayuresh/anaconda3/lib/python3.7/site-packages (from yfinance) (2.22.0)\n",
      "Requirement already satisfied: python-dateutil>=2.6.1 in /home/mayuresh/anaconda3/lib/python3.7/site-packages (from pandas>=0.24->yfinance) (2.8.0)\n",
      "Requirement already satisfied: pytz>=2017.2 in /home/mayuresh/anaconda3/lib/python3.7/site-packages (from pandas>=0.24->yfinance) (2018.9)\n",
      "Requirement already satisfied: certifi>=2017.4.17 in /home/mayuresh/anaconda3/lib/python3.7/site-packages (from requests>=2.20->yfinance) (2020.4.5.1)\n",
      "Requirement already satisfied: chardet<3.1.0,>=3.0.2 in /home/mayuresh/anaconda3/lib/python3.7/site-packages (from requests>=2.20->yfinance) (3.0.4)\n",
      "Requirement already satisfied: urllib3!=1.25.0,!=1.25.1,<1.26,>=1.21.1 in /home/mayuresh/anaconda3/lib/python3.7/site-packages (from requests>=2.20->yfinance) (1.25.7)\n",
      "Requirement already satisfied: idna<2.9,>=2.5 in /home/mayuresh/anaconda3/lib/python3.7/site-packages (from requests>=2.20->yfinance) (2.8)\n",
      "Requirement already satisfied: six>=1.5 in /home/mayuresh/anaconda3/lib/python3.7/site-packages (from python-dateutil>=2.6.1->pandas>=0.24->yfinance) (1.12.0)\n",
      "Requirement already satisfied: cvxpy in /home/mayuresh/anaconda3/lib/python3.7/site-packages (1.1.1)\n",
      "Requirement already satisfied: osqp>=0.4.1 in /home/mayuresh/anaconda3/lib/python3.7/site-packages (from cvxpy) (0.6.1)\n",
      "Requirement already satisfied: scs>=1.1.3 in /home/mayuresh/anaconda3/lib/python3.7/site-packages (from cvxpy) (2.1.2)\n",
      "Requirement already satisfied: numpy>=1.15 in /home/mayuresh/anaconda3/lib/python3.7/site-packages (from cvxpy) (1.17.2)\n",
      "Requirement already satisfied: ecos>=2 in /home/mayuresh/anaconda3/lib/python3.7/site-packages (from cvxpy) (2.0.7.post1)\n",
      "Requirement already satisfied: scipy>=1.1.0 in /home/mayuresh/anaconda3/lib/python3.7/site-packages (from cvxpy) (1.2.1)\n",
      "Requirement already satisfied: future in /home/mayuresh/anaconda3/lib/python3.7/site-packages (from osqp>=0.4.1->cvxpy) (0.17.1)\n"
     ]
    },
    {
     "name": "stderr",
     "output_type": "stream",
     "text": [
      "/home/mayuresh/anaconda3/lib/python3.7/site-packages/pandas_datareader/compat/__init__.py:7: FutureWarning: pandas.util.testing is deprecated. Use the functions in the public API at pandas.testing instead.\n",
      "  from pandas.util.testing import assert_frame_equal\n"
     ]
    }
   ],
   "source": [
    "# Making a function StockVol to calibrate stock volitility under geometric Brownian motion model\n",
    "!pip install pandas_datareader\n",
    "!pip install yfinance\n",
    "!pip install cvxpy\n",
    "import numpy as np\n",
    "import matplotlib as m\n",
    "import pandas as pd\n",
    "import pandas_datareader as pdr\n",
    "from pandas_datareader import data\n",
    "import yfinance as yf\n",
    "import datetime as dt\n",
    "from datetime import date\n",
    "yf.pdr_override()"
   ]
  },
  {
   "cell_type": "code",
   "execution_count": 11,
   "metadata": {},
   "outputs": [],
   "source": [
    "#USE    : To get historical data for a particular stock\n",
    "#INPUT  : code of the company \"goog\"\n",
    "#OUTPUT : array of close price of data\n",
    "def GetData(companyName, years=1):\n",
    "    # Getting today's date\n",
    "    today = date.today()\n",
    "    # Setting start date to historical years\n",
    "    startDate = today.replace(today.year-years)\n",
    "    # Date : Open High Low Close \"Adj Close\" Volume\n",
    "    data = pdr.get_data_yahoo(companyName, startDate, today)\n",
    "    # Cleaning to get the close prices only\n",
    "    closePrice = [data[\"Close\"][i] for i in range(len(data))]\n",
    "    # Return close price of the data\n",
    "    return closePrice"
   ]
  },
  {
   "cell_type": "code",
   "execution_count": 12,
   "metadata": {},
   "outputs": [],
   "source": [
    "#USE        : to find the volitility of the stock data\n",
    "#INPUT      : array of 1 year historical prices\n",
    "#ASSUMPTION : Stock doesn't pay dividends\n",
    "#OUTPUT     : historical volitility of the stock (standard deviation)\n",
    "def StockVol(histoPrice):\n",
    "    #Finding the ratio of current/previous values\n",
    "    Sn = [np.log(histoPrice[i+1]/histoPrice[i]) for i in range(len(histoPrice)-1)]\n",
    "    return np.sqrt(np.var(Sn, ddof=1))"
   ]
  },
  {
   "cell_type": "code",
   "execution_count": 13,
   "metadata": {},
   "outputs": [],
   "source": [
    "#USE        : to generate n stock path\n",
    "#INPUT      : nSteps-> number of time steps, sigma-> volatility, \n",
    "#           : T-> TerminalTime (yearly unit), nSimulations-> number of Simulations\n",
    "#           : r-> interest rate, delta-> continuous dividend yield \n",
    "#           : S0-> initial price of the stock\n",
    "#ASSUMPTION : Stock is not paying any dividends\n",
    "#OUTPUT     : Stock Path as a matrix\n",
    "def StockPath(nSteps, sigma = 0, S0=0, T=1, nSimulations=10, r=.02, delta=0):\n",
    "    path = []\n",
    "    for period in range(nSimulations):\n",
    "        # Step size for every path simulation\n",
    "        step =  T/nSteps\n",
    "        #\n",
    "        periodPrice = [S0]\n",
    "        # Computation of n simulated stock prices \n",
    "        # np.random.normal(0,1,n) outputs array of nSteps normal values\n",
    "        Y = np.exp(((r-delta-(sigma**2)/2)*step)+(sigma*np.random.normal(0,1,nSteps)*np.sqrt(step)))\n",
    "        # now we have array of simulated factor for nSteps stock path \n",
    "        # we want to multiply this to previous to find simulated price\n",
    "        counter = 0\n",
    "        for y in Y:\n",
    "            periodPrice.append(periodPrice[counter]*y)\n",
    "            counter += 1\n",
    "        path.append(periodPrice)\n",
    "    return(path)      "
   ]
  },
  {
   "cell_type": "code",
   "execution_count": 14,
   "metadata": {},
   "outputs": [],
   "source": [
    "#USE        : To generate the European put option price through Monte Carlo method\n",
    "#INPUT      : StockPath, nSteps-> number of time steps, sigma-> volatility, \n",
    "#           : T-> TerminalTime (yearly unit), nSimulations-> number of Simulations\n",
    "#           : r-> interest rate, delta-> continuous dividend yield,\n",
    "#           : S0-> initial price of the stock, K-> Strike Price\n",
    "#ASSUMPTION : Stock is not paying any dividends\n",
    "#OUTPUTS    : Discounted Payoff Vector, Price & Variance\n",
    "def EurOptPrice(StockPath, nStockPath, T=1, r=.02, K = 0):\n",
    "    # Last Column of StockPath is Terminal Value\n",
    "    Dis_Payoff_Vec = []\n",
    "    for j in range(0,nStockPath):\n",
    "        St_j = StockPath[j][nStockPath]\n",
    "        # Create Column of Disounted Payoffs\n",
    "        Dis_Payoff_j = np.exp(-r*T)*max(0,K - St_j)\n",
    "        Dis_Payoff_Vec = np.append(Dis_Payoff_Vec,Dis_Payoff_j)\n",
    "        Price = np.mean(Dis_Payoff_Vec)\n",
    "        Price_Var = np.var(Dis_Payoff_Vec)\n",
    "    return (Dis_Payoff_Vec, Price, Price_Var)"
   ]
  },
  {
   "cell_type": "code",
   "execution_count": 15,
   "metadata": {},
   "outputs": [],
   "source": [
    "HistoPrice = GetData(\"goog\", years=1)\n",
    "sigma = StockVol(HistoPrice)\n",
    "StockPaths = StockPath(nSteps = 20, sigma = sigma, S0 = HistoPrice[0], T = 1, nSimulations = 52, r = 0.02)\n",
    "Eu = EurOptPrice(StockPaths, nStockPath = 20, T = 1, r = 0.02, K = 1200)"
   ]
  },
  {
   "cell_type": "code",
   "execution_count": 96,
   "metadata": {},
   "outputs": [],
   "source": [
    "import cvxpy as cp\n",
    "#USE        : To generate the Aemrican put option price through Monte Carlo method\n",
    "#INPUT      : StockPaths, nSteps-> number of time steps, sigma-> volatility, \n",
    "#           : T-> TerminalTime (yearly unit), nSimulations-> number of Simulations\n",
    "#           : r-> interest rate, delta-> continuous dividend yield\n",
    "#           : S0-> initial price of the stock, K-> Strike Price\n",
    "#ASSUMPTION : Stock is not paying any dividends\n",
    "#OUTPUTS    : Discounted Payoff Vector, Price & Variance\n",
    "def AmericanOptionPrice(StockPaths, nSteps, nSimulations, sigma, r, K, T, mcSamples=1000, delta = 0):\n",
    "    step = T/nSteps\n",
    "    # Shape is (nSimulations, nSteps)\n",
    "    # Take a closer look, all stock path has been reversed to work in the backward direction\n",
    "    # i.e. it starts from time in reverse direction\n",
    "    paths = np.array(StockPaths).T[::-1] \n",
    "    #print(f\"shape of paths is {np.shape(paths)}\")\n",
    "    \n",
    "    # This contains payoffs of all the path or 0th time step\n",
    "    exercisedPayoffs = [(K-paths[0]).clip(min=0)]\n",
    "    exercisedExpDisPayoffs = [(K-paths[0]).clip(min=0)]\n",
    "    \n",
    "    for i in range(1,nSteps):\n",
    "        # Has number of values equal to nSsimulations i.e. every path value\n",
    "        # So basically variable 'paths' contain price at each time step for all simulation\n",
    "        # stockPrices has price at time step i for every path of simulation\n",
    "        stockPrices = paths[i]\n",
    "        #print(f\"stockPrices shape is {np.shape(stockPrices)}\")\n",
    "        \n",
    "        # Make positive payoff using clip, this is payofsf at time step i for all path \n",
    "        payOffs = (K - stockPrices).clip(min=0)\n",
    "        #print(payOffs, np.shape(payOffs))\n",
    "        \n",
    "        # We need to find Discounted Conditional Expected Price for next step of each step value\n",
    "        # So we need to Simulate 1 step Monte Carlo to generate next time stock price\n",
    "        # Find the payoff of this next time stock price and calculate average \n",
    "        # We use blackSholes model for price simulation\n",
    "        \n",
    "        # For every path in the stockPrices simulate Monte Carlo and get next prices using Black-Sholes\n",
    "        # time step is ith\n",
    "        simulatedPrices = [ stockPrice*np.exp(sigma*np.random.normal(0,1,mcSamples)*np.sqrt(step) + (r-(sigma**2)/2)*step) for stockPrice in stockPrices]\n",
    "        simulatedPrices = np.array(simulatedPrices)\n",
    "        #print(f\"Shape of simulatedPrices is: {np.shape(simulatedPrices)}\")\n",
    "        # shape is nSimulations X mcSamples\n",
    "        # So for every path at timeStep i we have mcSamples montecarlo samples simulated\n",
    "        \n",
    "        #If this is the t-1 step then the expected payoff is to be simulated mean\n",
    "        if(i == 1):\n",
    "            # Find expected payoff by taking mean of all the path\n",
    "            expectedPayoffs = np.array([np.mean(expectedPayoff) for expectedPayoff in K-simulatedPrices.clip(min=0)])\n",
    "            #print(f\"Shape of expectedPayoffs is {np.shape(expectedPayoffs)}\")\n",
    "            discountedExpectedPayoffs = expectedPayoffs* np.exp(-r*step)\n",
    "            #print(f\"Shape of discountedExpectedPayoff is {np.shape(discountedExpectedPayoffs)}\")\n",
    "            \n",
    "        # For other time step it must be done by machine learning\n",
    "        else:\n",
    "            # discountedExpectedPayoffs needs to be calculated using the machine learning\n",
    "            # Take as input stockPrices (has stock price for each path at time step i)\n",
    "            # and take another input as discountedExpectedPayoffs (has expectedPayoffs \n",
    "            # for each path at time step i)\n",
    "            # run the machine learning model on this to get the weights\n",
    "            # use this weights to predict new expected payoff at timestep i-1\n",
    "            \n",
    "            X = np.array([np.array([1]*len(stockPrices)), stockPrices, stockPrices**2])\n",
    "            X = X.T\n",
    "            #print(np.shape(X))\n",
    "            #print(X)\n",
    "            # Formalizing the regression model\n",
    "            beta = cp.Variable(3)\n",
    "            loss = cp.sum_squares(discountedExpectedPayoffs-X@beta)\n",
    "            prob = cp.Problem(cp.Minimize(loss))\n",
    "            prob.solve()\n",
    "            # estimating discounted expected payoffs using estimated parameters\n",
    "            discountedExpectedPayoffs = X@beta.value\n",
    "        exercisedPayoffs.insert(0, payOffs)\n",
    "        exercisedExpDisPayoffs.insert(0, discountedExpectedPayoffs)\n",
    "    exercisedPayoffs = np.array(exercisedPayoffs).T\n",
    "    exercisedExpDisPayoffs = np.array(exercisedExpDisPayoffs).T\n",
    "    #Now we have nSimulations X nSteps shaped arrays\n",
    "    discountedPayoffsMax = []\n",
    "    for i in range(nSimulations):\n",
    "        for j in range(nSteps):\n",
    "            exerPayoff = exercisedPayoffs[i][j]\n",
    "            exerDisPayoff = exercisedExpDisPayoffs[i][j]\n",
    "            if exerPayoff > exerDisPayoff :\n",
    "                disPayoff = exerPayoff*np.exp(-r*step*j)\n",
    "                break\n",
    "            else:\n",
    "                disPayoff = exerDisPayoff.np.exp(-r*step*j)\n",
    "        discountedPayoffsMax.append(disPayoff) \n",
    "        \n",
    "    return(discountedPayoffsMax, np.mean(discountedPayoffsMax), np.var(discountedPayoffsMax, ddof=1))"
   ]
  },
  {
   "cell_type": "code",
   "execution_count": 97,
   "metadata": {},
   "outputs": [],
   "source": [
    "HistoPrice = GetData(\"goog\", years=1)\n",
    "sigma = StockVol(HistoPrice)\n",
    "nSteps = 20\n",
    "S0 = HistoPrice[0]\n",
    "StockPaths = StockPath(nSteps = 20, sigma = sigma, S0 = HistoPrice[0], T = 1, nSimulations = 52, r = 0.02)\n",
    "mcSamples = 1000\n",
    "nSimulations = 52\n",
    "r = 0.04\n",
    "K = 1200\n",
    "T = 1"
   ]
  },
  {
   "cell_type": "code",
   "execution_count": 99,
   "metadata": {},
   "outputs": [],
   "source": [
    "a,b,c = AmericanOptionPrice(StockPaths, nSteps, nSimulations, sigma, r, K, T, mcSamples=1000)"
   ]
  },
  {
   "cell_type": "code",
   "execution_count": 102,
   "metadata": {},
   "outputs": [
    {
     "name": "stdout",
     "output_type": "stream",
     "text": [
      "52\n",
      "145.07093052652087\n",
      "27.12703697400504\n"
     ]
    }
   ],
   "source": [
    "print(len(a))\n",
    "print(b)\n",
    "print(c)"
   ]
  },
  {
   "cell_type": "code",
   "execution_count": null,
   "metadata": {},
   "outputs": [],
   "source": []
  }
 ],
 "metadata": {
  "kernelspec": {
   "display_name": "Python 3",
   "language": "python",
   "name": "python3"
  },
  "language_info": {
   "codemirror_mode": {
    "name": "ipython",
    "version": 3
   },
   "file_extension": ".py",
   "mimetype": "text/x-python",
   "name": "python",
   "nbconvert_exporter": "python",
   "pygments_lexer": "ipython3",
   "version": "3.7.3"
  }
 },
 "nbformat": 4,
 "nbformat_minor": 2
}
